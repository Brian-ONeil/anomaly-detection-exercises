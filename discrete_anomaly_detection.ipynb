{
 "cells": [
  {
   "cell_type": "code",
   "execution_count": 1,
   "id": "c9217afb-3771-45a6-b945-bd600e6c3e98",
   "metadata": {},
   "outputs": [],
   "source": [
    "import matplotlib.pyplot as plt\n",
    "import numpy as np\n",
    "import pandas as pd\n",
    "import seaborn as sns\n",
    "from sklearn import metrics\n",
    "import env\n",
    "from sqlalchemy import text, create_engine"
   ]
  },
  {
   "cell_type": "code",
   "execution_count": 2,
   "id": "54325312-5bae-4f68-a7bc-aedc64a68f73",
   "metadata": {},
   "outputs": [],
   "source": [
    "logs_query = \"\"\"select * \n",
    "                from api_access\"\"\"\n",
    "\n",
    "url = env.get_db_url('logs')\n",
    "    \n",
    "df = pd.read_sql(logs_query, url)"
   ]
  },
  {
   "cell_type": "code",
   "execution_count": 3,
   "id": "891e9e2a-d1fd-4318-93a2-4a1da263491c",
   "metadata": {},
   "outputs": [
    {
     "data": {
      "text/html": [
       "<div>\n",
       "<style scoped>\n",
       "    .dataframe tbody tr th:only-of-type {\n",
       "        vertical-align: middle;\n",
       "    }\n",
       "\n",
       "    .dataframe tbody tr th {\n",
       "        vertical-align: top;\n",
       "    }\n",
       "\n",
       "    .dataframe thead th {\n",
       "        text-align: right;\n",
       "    }\n",
       "</style>\n",
       "<table border=\"1\" class=\"dataframe\">\n",
       "  <thead>\n",
       "    <tr style=\"text-align: right;\">\n",
       "      <th></th>\n",
       "      <th>entry</th>\n",
       "    </tr>\n",
       "  </thead>\n",
       "  <tbody>\n",
       "    <tr>\n",
       "      <th>0</th>\n",
       "      <td>97.105.19.58 - - [16/Apr/2019:19:34:42 +0000] ...</td>\n",
       "    </tr>\n",
       "    <tr>\n",
       "      <th>1</th>\n",
       "      <td>97.105.19.58 - - [16/Apr/2019:19:34:42 +0000] ...</td>\n",
       "    </tr>\n",
       "    <tr>\n",
       "      <th>2</th>\n",
       "      <td>97.105.19.58 - - [16/Apr/2019:19:34:44 +0000] ...</td>\n",
       "    </tr>\n",
       "    <tr>\n",
       "      <th>3</th>\n",
       "      <td>97.105.19.58 - - [16/Apr/2019:19:34:46 +0000] ...</td>\n",
       "    </tr>\n",
       "    <tr>\n",
       "      <th>4</th>\n",
       "      <td>97.105.19.58 - - [16/Apr/2019:19:34:48 +0000] ...</td>\n",
       "    </tr>\n",
       "  </tbody>\n",
       "</table>\n",
       "</div>"
      ],
      "text/plain": [
       "                                               entry\n",
       "0  97.105.19.58 - - [16/Apr/2019:19:34:42 +0000] ...\n",
       "1  97.105.19.58 - - [16/Apr/2019:19:34:42 +0000] ...\n",
       "2  97.105.19.58 - - [16/Apr/2019:19:34:44 +0000] ...\n",
       "3  97.105.19.58 - - [16/Apr/2019:19:34:46 +0000] ...\n",
       "4  97.105.19.58 - - [16/Apr/2019:19:34:48 +0000] ..."
      ]
     },
     "execution_count": 3,
     "metadata": {},
     "output_type": "execute_result"
    }
   ],
   "source": [
    "df.head()"
   ]
  },
  {
   "cell_type": "code",
   "execution_count": 4,
   "id": "b4889e58-8390-472d-bad9-06094f492bbd",
   "metadata": {},
   "outputs": [
    {
     "name": "stdout",
     "output_type": "stream",
     "text": [
      "<class 'pandas.core.frame.DataFrame'>\n",
      "RangeIndex: 13974 entries, 0 to 13973\n",
      "Data columns (total 1 columns):\n",
      " #   Column  Non-Null Count  Dtype \n",
      "---  ------  --------------  ----- \n",
      " 0   entry   13974 non-null  object\n",
      "dtypes: object(1)\n",
      "memory usage: 109.3+ KB\n"
     ]
    }
   ],
   "source": [
    "df.info()"
   ]
  },
  {
   "cell_type": "markdown",
   "id": "3a8c1e15-cee8-48ec-8fe1-5f40f88e83b5",
   "metadata": {},
   "source": [
    "### Prepare\n",
    "* the data needs to be parsed out so we can see each piece of the access log"
   ]
  },
  {
   "cell_type": "code",
   "execution_count": 5,
   "id": "c8bee91b-ce1b-423f-94be-b0e080a0fd70",
   "metadata": {},
   "outputs": [
    {
     "data": {
      "text/plain": [
       "'97.105.19.58 - - [16/Apr/2019:19:34:42 +0000] \"GET /api/v1/sales?page=81 HTTP/1.1\" 200 512495 \"-\" \"python-requests/2.21.0\"'"
      ]
     },
     "execution_count": 5,
     "metadata": {},
     "output_type": "execute_result"
    }
   ],
   "source": [
    "df.entry[0]"
   ]
  },
  {
   "cell_type": "code",
   "execution_count": 6,
   "id": "69d940c3-c26a-4605-bab3-6093986440ab",
   "metadata": {},
   "outputs": [
    {
     "data": {
      "text/plain": [
       "['97.105.19.58',\n",
       " '-',\n",
       " '-',\n",
       " '[16/Apr/2019:19:34:42',\n",
       " '+0000]',\n",
       " '\"GET',\n",
       " '/api/v1/sales?page=81',\n",
       " 'HTTP/1.1\"',\n",
       " '200',\n",
       " '512495',\n",
       " '\"-\"',\n",
       " '\"python-requests/2.21.0\"']"
      ]
     },
     "execution_count": 6,
     "metadata": {},
     "output_type": "execute_result"
    }
   ],
   "source": [
    "#separating the elements in one row\n",
    "df.entry[0].split()"
   ]
  },
  {
   "cell_type": "code",
   "execution_count": 7,
   "id": "1df378d2-3c85-455b-8ef9-9a4f1b4aaca2",
   "metadata": {},
   "outputs": [
    {
     "data": {
      "text/plain": [
       "['97.105.19.58',\n",
       " '-',\n",
       " '-',\n",
       " '[16/Apr/2019:19:34:42',\n",
       " '+0000]',\n",
       " '\"GET',\n",
       " '/api/v1/sales?page=81',\n",
       " 'HTTP/1.1\"',\n",
       " '200',\n",
       " '512495',\n",
       " '\"-\"',\n",
       " '\"python-requests/2.21.0\"']"
      ]
     },
     "execution_count": 7,
     "metadata": {},
     "output_type": "execute_result"
    }
   ],
   "source": [
    "#save it\n",
    "parts = df.entry[0].split()\n",
    "parts"
   ]
  },
  {
   "cell_type": "code",
   "execution_count": 8,
   "id": "7efbd39c-d2fc-41c1-83f2-de4a4a17ea4c",
   "metadata": {},
   "outputs": [
    {
     "data": {
      "text/html": [
       "<div>\n",
       "<style scoped>\n",
       "    .dataframe tbody tr th:only-of-type {\n",
       "        vertical-align: middle;\n",
       "    }\n",
       "\n",
       "    .dataframe tbody tr th {\n",
       "        vertical-align: top;\n",
       "    }\n",
       "\n",
       "    .dataframe thead th {\n",
       "        text-align: right;\n",
       "    }\n",
       "</style>\n",
       "<table border=\"1\" class=\"dataframe\">\n",
       "  <thead>\n",
       "    <tr style=\"text-align: right;\">\n",
       "      <th></th>\n",
       "      <th>0</th>\n",
       "      <th>1</th>\n",
       "      <th>2</th>\n",
       "      <th>3</th>\n",
       "      <th>4</th>\n",
       "      <th>5</th>\n",
       "      <th>6</th>\n",
       "      <th>7</th>\n",
       "      <th>8</th>\n",
       "      <th>9</th>\n",
       "      <th>...</th>\n",
       "      <th>14</th>\n",
       "      <th>15</th>\n",
       "      <th>16</th>\n",
       "      <th>17</th>\n",
       "      <th>18</th>\n",
       "      <th>19</th>\n",
       "      <th>20</th>\n",
       "      <th>21</th>\n",
       "      <th>22</th>\n",
       "      <th>23</th>\n",
       "    </tr>\n",
       "  </thead>\n",
       "  <tbody>\n",
       "    <tr>\n",
       "      <th>0</th>\n",
       "      <td>97.105.19.58</td>\n",
       "      <td>-</td>\n",
       "      <td>-</td>\n",
       "      <td>[16/Apr/2019:19:34:42</td>\n",
       "      <td>+0000]</td>\n",
       "      <td>\"GET</td>\n",
       "      <td>/api/v1/sales?page=81</td>\n",
       "      <td>HTTP/1.1\"</td>\n",
       "      <td>200</td>\n",
       "      <td>512495</td>\n",
       "      <td>...</td>\n",
       "      <td>None</td>\n",
       "      <td>None</td>\n",
       "      <td>None</td>\n",
       "      <td>None</td>\n",
       "      <td>None</td>\n",
       "      <td>None</td>\n",
       "      <td>None</td>\n",
       "      <td>None</td>\n",
       "      <td>None</td>\n",
       "      <td>None</td>\n",
       "    </tr>\n",
       "    <tr>\n",
       "      <th>1</th>\n",
       "      <td>97.105.19.58</td>\n",
       "      <td>-</td>\n",
       "      <td>-</td>\n",
       "      <td>[16/Apr/2019:19:34:42</td>\n",
       "      <td>+0000]</td>\n",
       "      <td>\"GET</td>\n",
       "      <td>/api/v1/items</td>\n",
       "      <td>HTTP/1.1\"</td>\n",
       "      <td>200</td>\n",
       "      <td>3561</td>\n",
       "      <td>...</td>\n",
       "      <td>None</td>\n",
       "      <td>None</td>\n",
       "      <td>None</td>\n",
       "      <td>None</td>\n",
       "      <td>None</td>\n",
       "      <td>None</td>\n",
       "      <td>None</td>\n",
       "      <td>None</td>\n",
       "      <td>None</td>\n",
       "      <td>None</td>\n",
       "    </tr>\n",
       "    <tr>\n",
       "      <th>2</th>\n",
       "      <td>97.105.19.58</td>\n",
       "      <td>-</td>\n",
       "      <td>-</td>\n",
       "      <td>[16/Apr/2019:19:34:44</td>\n",
       "      <td>+0000]</td>\n",
       "      <td>\"GET</td>\n",
       "      <td>/api/v1/sales?page=82</td>\n",
       "      <td>HTTP/1.1\"</td>\n",
       "      <td>200</td>\n",
       "      <td>510103</td>\n",
       "      <td>...</td>\n",
       "      <td>None</td>\n",
       "      <td>None</td>\n",
       "      <td>None</td>\n",
       "      <td>None</td>\n",
       "      <td>None</td>\n",
       "      <td>None</td>\n",
       "      <td>None</td>\n",
       "      <td>None</td>\n",
       "      <td>None</td>\n",
       "      <td>None</td>\n",
       "    </tr>\n",
       "    <tr>\n",
       "      <th>3</th>\n",
       "      <td>97.105.19.58</td>\n",
       "      <td>-</td>\n",
       "      <td>-</td>\n",
       "      <td>[16/Apr/2019:19:34:46</td>\n",
       "      <td>+0000]</td>\n",
       "      <td>\"GET</td>\n",
       "      <td>/api/v1/sales?page=83</td>\n",
       "      <td>HTTP/1.1\"</td>\n",
       "      <td>200</td>\n",
       "      <td>510003</td>\n",
       "      <td>...</td>\n",
       "      <td>None</td>\n",
       "      <td>None</td>\n",
       "      <td>None</td>\n",
       "      <td>None</td>\n",
       "      <td>None</td>\n",
       "      <td>None</td>\n",
       "      <td>None</td>\n",
       "      <td>None</td>\n",
       "      <td>None</td>\n",
       "      <td>None</td>\n",
       "    </tr>\n",
       "    <tr>\n",
       "      <th>4</th>\n",
       "      <td>97.105.19.58</td>\n",
       "      <td>-</td>\n",
       "      <td>-</td>\n",
       "      <td>[16/Apr/2019:19:34:48</td>\n",
       "      <td>+0000]</td>\n",
       "      <td>\"GET</td>\n",
       "      <td>/api/v1/sales?page=84</td>\n",
       "      <td>HTTP/1.1\"</td>\n",
       "      <td>200</td>\n",
       "      <td>511963</td>\n",
       "      <td>...</td>\n",
       "      <td>None</td>\n",
       "      <td>None</td>\n",
       "      <td>None</td>\n",
       "      <td>None</td>\n",
       "      <td>None</td>\n",
       "      <td>None</td>\n",
       "      <td>None</td>\n",
       "      <td>None</td>\n",
       "      <td>None</td>\n",
       "      <td>None</td>\n",
       "    </tr>\n",
       "  </tbody>\n",
       "</table>\n",
       "<p>5 rows × 24 columns</p>\n",
       "</div>"
      ],
      "text/plain": [
       "             0  1  2                      3       4     5   \\\n",
       "0  97.105.19.58  -  -  [16/Apr/2019:19:34:42  +0000]  \"GET   \n",
       "1  97.105.19.58  -  -  [16/Apr/2019:19:34:42  +0000]  \"GET   \n",
       "2  97.105.19.58  -  -  [16/Apr/2019:19:34:44  +0000]  \"GET   \n",
       "3  97.105.19.58  -  -  [16/Apr/2019:19:34:46  +0000]  \"GET   \n",
       "4  97.105.19.58  -  -  [16/Apr/2019:19:34:48  +0000]  \"GET   \n",
       "\n",
       "                      6          7    8       9   ...    14    15    16    17  \\\n",
       "0  /api/v1/sales?page=81  HTTP/1.1\"  200  512495  ...  None  None  None  None   \n",
       "1          /api/v1/items  HTTP/1.1\"  200    3561  ...  None  None  None  None   \n",
       "2  /api/v1/sales?page=82  HTTP/1.1\"  200  510103  ...  None  None  None  None   \n",
       "3  /api/v1/sales?page=83  HTTP/1.1\"  200  510003  ...  None  None  None  None   \n",
       "4  /api/v1/sales?page=84  HTTP/1.1\"  200  511963  ...  None  None  None  None   \n",
       "\n",
       "     18    19    20    21    22    23  \n",
       "0  None  None  None  None  None  None  \n",
       "1  None  None  None  None  None  None  \n",
       "2  None  None  None  None  None  None  \n",
       "3  None  None  None  None  None  None  \n",
       "4  None  None  None  None  None  None  \n",
       "\n",
       "[5 rows x 24 columns]"
      ]
     },
     "execution_count": 8,
     "metadata": {},
     "output_type": "execute_result"
    }
   ],
   "source": [
    "df.entry.str.split(expand=True).head()"
   ]
  },
  {
   "cell_type": "code",
   "execution_count": 9,
   "id": "50d021dc-f699-4b9e-b3a5-c20ae1403dd0",
   "metadata": {},
   "outputs": [],
   "source": [
    "#create dictionary to hold results\n",
    "output= {}"
   ]
  },
  {
   "cell_type": "code",
   "execution_count": 10,
   "id": "ce39c065-1f46-4f03-84df-07ef48319621",
   "metadata": {},
   "outputs": [],
   "source": [
    "#pull out ip address\n",
    "output['ip'] = parts[0]"
   ]
  },
  {
   "cell_type": "code",
   "execution_count": 11,
   "id": "0884c18c-686e-4b11-85aa-37cfa03e7849",
   "metadata": {},
   "outputs": [
    {
     "data": {
      "text/plain": [
       "{'ip': '97.105.19.58'}"
      ]
     },
     "execution_count": 11,
     "metadata": {},
     "output_type": "execute_result"
    }
   ],
   "source": [
    "output"
   ]
  },
  {
   "cell_type": "code",
   "execution_count": 12,
   "id": "22afbb81-de00-408c-904a-06aa2981b52f",
   "metadata": {},
   "outputs": [
    {
     "data": {
      "text/plain": [
       "['97.105.19.58',\n",
       " '-',\n",
       " '-',\n",
       " '[16/Apr/2019:19:34:42',\n",
       " '+0000]',\n",
       " '\"GET',\n",
       " '/api/v1/sales?page=81',\n",
       " 'HTTP/1.1\"',\n",
       " '200',\n",
       " '512495',\n",
       " '\"-\"',\n",
       " '\"python-requests/2.21.0\"']"
      ]
     },
     "execution_count": 12,
     "metadata": {},
     "output_type": "execute_result"
    }
   ],
   "source": [
    "parts"
   ]
  },
  {
   "cell_type": "code",
   "execution_count": 13,
   "id": "a6e9494e-113f-477a-80ed-ca440b03f677",
   "metadata": {},
   "outputs": [
    {
     "data": {
      "text/plain": [
       "array(['-'], dtype=object)"
      ]
     },
     "execution_count": 13,
     "metadata": {},
     "output_type": "execute_result"
    }
   ],
   "source": [
    "df.entry.str.split(expand=True)[1].unique()"
   ]
  },
  {
   "cell_type": "code",
   "execution_count": 14,
   "id": "a5193ae0-02d8-4ca3-9c2e-06b828be56e4",
   "metadata": {},
   "outputs": [
    {
     "data": {
      "text/plain": [
       "array(['-'], dtype=object)"
      ]
     },
     "execution_count": 14,
     "metadata": {},
     "output_type": "execute_result"
    }
   ],
   "source": [
    "df.entry.str.split(expand=True)[2].unique()"
   ]
  },
  {
   "cell_type": "code",
   "execution_count": 15,
   "id": "b1aa23a3-8e40-41b9-b12d-a14769e482a5",
   "metadata": {},
   "outputs": [],
   "source": [
    "#pull out time\n",
    "output['time'] = parts[3][1:].replace(\":\",' ', 1)"
   ]
  },
  {
   "cell_type": "code",
   "execution_count": 16,
   "id": "afbaa960-d8bf-4802-a7d8-710a0b779c56",
   "metadata": {},
   "outputs": [
    {
     "data": {
      "text/plain": [
       "{'ip': '97.105.19.58', 'time': '16/Apr/2019 19:34:42'}"
      ]
     },
     "execution_count": 16,
     "metadata": {},
     "output_type": "execute_result"
    }
   ],
   "source": [
    "output"
   ]
  },
  {
   "cell_type": "code",
   "execution_count": 17,
   "id": "c776ee57-8e0c-4715-bc02-579d7f235598",
   "metadata": {},
   "outputs": [
    {
     "data": {
      "text/plain": [
       "['97.105.19.58',\n",
       " '-',\n",
       " '-',\n",
       " '[16/Apr/2019:19:34:42',\n",
       " '+0000]',\n",
       " '\"GET',\n",
       " '/api/v1/sales?page=81',\n",
       " 'HTTP/1.1\"',\n",
       " '200',\n",
       " '512495',\n",
       " '\"-\"',\n",
       " '\"python-requests/2.21.0\"']"
      ]
     },
     "execution_count": 17,
     "metadata": {},
     "output_type": "execute_result"
    }
   ],
   "source": [
    "parts"
   ]
  },
  {
   "cell_type": "code",
   "execution_count": 18,
   "id": "ef977eeb-79b9-4c0e-8686-7f589c6eadec",
   "metadata": {},
   "outputs": [
    {
     "data": {
      "text/plain": [
       "array(['+0000]'], dtype=object)"
      ]
     },
     "execution_count": 18,
     "metadata": {},
     "output_type": "execute_result"
    }
   ],
   "source": [
    "df.entry.str.split(expand=True)[4].unique()"
   ]
  },
  {
   "cell_type": "code",
   "execution_count": 19,
   "id": "8a384233-a5f5-4a00-8c24-d91bc10b5305",
   "metadata": {},
   "outputs": [
    {
     "data": {
      "text/plain": [
       "array(['\"GET'], dtype=object)"
      ]
     },
     "execution_count": 19,
     "metadata": {},
     "output_type": "execute_result"
    }
   ],
   "source": [
    "#pull out request method\n",
    "df.entry.str.split(expand=True)[5].unique()"
   ]
  },
  {
   "cell_type": "code",
   "execution_count": 20,
   "id": "a796c2b6-1504-4890-b743-5559c138ee35",
   "metadata": {},
   "outputs": [],
   "source": [
    "output['request_method'] = parts[5].strip('\"')"
   ]
  },
  {
   "cell_type": "code",
   "execution_count": 21,
   "id": "70770464-d2d4-437e-b08a-25ac82cabb46",
   "metadata": {},
   "outputs": [
    {
     "data": {
      "text/plain": [
       "{'ip': '97.105.19.58', 'time': '16/Apr/2019 19:34:42', 'request_method': 'GET'}"
      ]
     },
     "execution_count": 21,
     "metadata": {},
     "output_type": "execute_result"
    }
   ],
   "source": [
    "output"
   ]
  },
  {
   "cell_type": "code",
   "execution_count": 22,
   "id": "3b279276-44fa-4c7b-a083-a2b3b312aad8",
   "metadata": {},
   "outputs": [
    {
     "data": {
      "text/plain": [
       "['97.105.19.58',\n",
       " '-',\n",
       " '-',\n",
       " '[16/Apr/2019:19:34:42',\n",
       " '+0000]',\n",
       " '\"GET',\n",
       " '/api/v1/sales?page=81',\n",
       " 'HTTP/1.1\"',\n",
       " '200',\n",
       " '512495',\n",
       " '\"-\"',\n",
       " '\"python-requests/2.21.0\"']"
      ]
     },
     "execution_count": 22,
     "metadata": {},
     "output_type": "execute_result"
    }
   ],
   "source": [
    "parts"
   ]
  },
  {
   "cell_type": "code",
   "execution_count": 23,
   "id": "8c304d3a-d21a-4cab-9c7a-a3b4226aa6a2",
   "metadata": {},
   "outputs": [],
   "source": [
    "#pull out request path\n",
    "output['request_path'] = parts[6]"
   ]
  },
  {
   "cell_type": "code",
   "execution_count": 24,
   "id": "6fd0fc7a-8ec9-47b3-84d9-d2aed3398697",
   "metadata": {},
   "outputs": [
    {
     "data": {
      "text/plain": [
       "{'ip': '97.105.19.58',\n",
       " 'time': '16/Apr/2019 19:34:42',\n",
       " 'request_method': 'GET',\n",
       " 'request_path': '/api/v1/sales?page=81'}"
      ]
     },
     "execution_count": 24,
     "metadata": {},
     "output_type": "execute_result"
    }
   ],
   "source": [
    "output"
   ]
  },
  {
   "cell_type": "code",
   "execution_count": 25,
   "id": "f91fb858-648c-4fc6-b254-504d49b4ca10",
   "metadata": {},
   "outputs": [],
   "source": [
    "#pull our http version\n",
    "output['http_version'] = parts[7][:-1]"
   ]
  },
  {
   "cell_type": "code",
   "execution_count": 26,
   "id": "a58b252e-ccc4-4e26-85bd-5b79f40e7b8f",
   "metadata": {},
   "outputs": [
    {
     "data": {
      "text/plain": [
       "{'ip': '97.105.19.58',\n",
       " 'time': '16/Apr/2019 19:34:42',\n",
       " 'request_method': 'GET',\n",
       " 'request_path': '/api/v1/sales?page=81',\n",
       " 'http_version': 'HTTP/1.1'}"
      ]
     },
     "execution_count": 26,
     "metadata": {},
     "output_type": "execute_result"
    }
   ],
   "source": [
    "output"
   ]
  },
  {
   "cell_type": "code",
   "execution_count": 27,
   "id": "d6b53418-6afc-44ae-9b87-0725bac5c9f8",
   "metadata": {},
   "outputs": [
    {
     "data": {
      "text/plain": [
       "['97.105.19.58',\n",
       " '-',\n",
       " '-',\n",
       " '[16/Apr/2019:19:34:42',\n",
       " '+0000]',\n",
       " '\"GET',\n",
       " '/api/v1/sales?page=81',\n",
       " 'HTTP/1.1\"',\n",
       " '200',\n",
       " '512495',\n",
       " '\"-\"',\n",
       " '\"python-requests/2.21.0\"']"
      ]
     },
     "execution_count": 27,
     "metadata": {},
     "output_type": "execute_result"
    }
   ],
   "source": [
    "parts"
   ]
  },
  {
   "cell_type": "code",
   "execution_count": 28,
   "id": "d9e51199-afa3-4d0d-af4d-933c26797702",
   "metadata": {},
   "outputs": [],
   "source": [
    "#pull out status code\n",
    "output['status_code'] = parts[8]"
   ]
  },
  {
   "cell_type": "code",
   "execution_count": 29,
   "id": "4f6b1ef9-23ff-4393-bdea-6f98f9fb8560",
   "metadata": {},
   "outputs": [
    {
     "data": {
      "text/plain": [
       "{'ip': '97.105.19.58',\n",
       " 'time': '16/Apr/2019 19:34:42',\n",
       " 'request_method': 'GET',\n",
       " 'request_path': '/api/v1/sales?page=81',\n",
       " 'http_version': 'HTTP/1.1',\n",
       " 'status_code': '200'}"
      ]
     },
     "execution_count": 29,
     "metadata": {},
     "output_type": "execute_result"
    }
   ],
   "source": [
    "output"
   ]
  },
  {
   "cell_type": "code",
   "execution_count": 30,
   "id": "4d2f8abb-fef4-474d-8a76-c5d144fb06e5",
   "metadata": {},
   "outputs": [],
   "source": [
    "# pull out size\n",
    "output['size'] = parts[9]"
   ]
  },
  {
   "cell_type": "code",
   "execution_count": 31,
   "id": "d97bf58d-b535-4d2b-9dcd-4378b56e8e62",
   "metadata": {},
   "outputs": [
    {
     "data": {
      "text/plain": [
       "{'ip': '97.105.19.58',\n",
       " 'time': '16/Apr/2019 19:34:42',\n",
       " 'request_method': 'GET',\n",
       " 'request_path': '/api/v1/sales?page=81',\n",
       " 'http_version': 'HTTP/1.1',\n",
       " 'status_code': '200',\n",
       " 'size': '512495'}"
      ]
     },
     "execution_count": 31,
     "metadata": {},
     "output_type": "execute_result"
    }
   ],
   "source": [
    "output"
   ]
  },
  {
   "cell_type": "code",
   "execution_count": 32,
   "id": "87fa8522-a95d-4ae2-a46b-f72a48dd8b9b",
   "metadata": {},
   "outputs": [
    {
     "name": "stdout",
     "output_type": "stream",
     "text": [
      "['\"python-requests/2.21.0\"' '\"Mozilla/5.0' '\"Slackbot-LinkExpanding'\n",
      " '\"Slackbot' '\"python-requests/2.20.1\"' '\"Python-urllib/3.7\"']\n",
      "[None '(Macintosh;' '1.0']\n",
      "[None 'Intel' '(+https://api.slack.com/robots)\"']\n",
      "[None 'Mac']\n",
      "[None 'OS']\n",
      "[None 'X']\n",
      "[None '10_14_4)' '10_14_3)' '10.14;']\n",
      "[None 'AppleWebKit/537.36' 'rv:66.0)']\n",
      "[None '(KHTML,' 'Gecko/20100101']\n",
      "[None 'like' 'Firefox/66.0\"']\n",
      "[None 'Gecko)']\n",
      "[None 'Chrome/73.0.3683.103' 'Chrome/72.0.3626.121']\n",
      "[None 'Safari/537.36\"']\n"
     ]
    }
   ],
   "source": [
    "for col in df.entry.str.split(expand=True).iloc[:,11:].columns:\n",
    "    print(df.entry.str.split(expand=True)[col].unique())"
   ]
  },
  {
   "cell_type": "code",
   "execution_count": 33,
   "id": "c6b0a705-d532-4414-af70-3c987d747e3b",
   "metadata": {},
   "outputs": [
    {
     "data": {
      "text/plain": [
       "'python-requests/2.21.0'"
      ]
     },
     "execution_count": 33,
     "metadata": {},
     "output_type": "execute_result"
    }
   ],
   "source": [
    "#combine request agents together\n",
    "' '.join(parts[11:]).strip('\"')"
   ]
  },
  {
   "cell_type": "code",
   "execution_count": 34,
   "id": "cd479710-0150-4a68-96af-6f9a0a7c5824",
   "metadata": {},
   "outputs": [
    {
     "data": {
      "text/plain": [
       "['97.105.19.58',\n",
       " '-',\n",
       " '-',\n",
       " '[16/Apr/2019:19:34:42',\n",
       " '+0000]',\n",
       " '\"GET',\n",
       " '/api/v1/sales?page=81',\n",
       " 'HTTP/1.1\"',\n",
       " '200',\n",
       " '512495',\n",
       " '\"-\"',\n",
       " '\"python-requests/2.21.0\"']"
      ]
     },
     "execution_count": 34,
     "metadata": {},
     "output_type": "execute_result"
    }
   ],
   "source": [
    "parts"
   ]
  },
  {
   "cell_type": "code",
   "execution_count": 35,
   "id": "dfff2809-124c-4eb7-b290-54d6e4feb94f",
   "metadata": {},
   "outputs": [],
   "source": [
    "# # function to deal with parsing one entry in our log data\n",
    "#this function works on one string\n",
    "def parse_log_entry(entry):\n",
    "    parts = entry.split()\n",
    "    output = {}\n",
    "    output['ip'] = parts[0]\n",
    "    output['timestamp'] = parts[3][1:].replace(':', ' ', 1)\n",
    "    output['request_method'] = parts[5][1:]\n",
    "    output['request_path'] = parts[6]\n",
    "    output['http_version'] = parts[7][:-1]\n",
    "    output['status_code'] = parts[8]\n",
    "    output['size'] = int(parts[9])\n",
    "    output['user_agent'] = ' '.join(parts[11:]).strip('\"')\n",
    "    return pd.Series(output)"
   ]
  },
  {
   "cell_type": "code",
   "execution_count": 36,
   "id": "2f3b0658-b431-4af1-a2ae-bf742bc3815b",
   "metadata": {},
   "outputs": [],
   "source": [
    "#apply string function to every element in a series\n",
    "df = df.entry.apply(parse_log_entry)"
   ]
  },
  {
   "cell_type": "code",
   "execution_count": 37,
   "id": "3f37a250-b3aa-45a5-8140-a16ae19a106d",
   "metadata": {},
   "outputs": [
    {
     "data": {
      "text/html": [
       "<div>\n",
       "<style scoped>\n",
       "    .dataframe tbody tr th:only-of-type {\n",
       "        vertical-align: middle;\n",
       "    }\n",
       "\n",
       "    .dataframe tbody tr th {\n",
       "        vertical-align: top;\n",
       "    }\n",
       "\n",
       "    .dataframe thead th {\n",
       "        text-align: right;\n",
       "    }\n",
       "</style>\n",
       "<table border=\"1\" class=\"dataframe\">\n",
       "  <thead>\n",
       "    <tr style=\"text-align: right;\">\n",
       "      <th></th>\n",
       "      <th>ip</th>\n",
       "      <th>timestamp</th>\n",
       "      <th>request_method</th>\n",
       "      <th>request_path</th>\n",
       "      <th>http_version</th>\n",
       "      <th>status_code</th>\n",
       "      <th>size</th>\n",
       "      <th>user_agent</th>\n",
       "    </tr>\n",
       "  </thead>\n",
       "  <tbody>\n",
       "    <tr>\n",
       "      <th>0</th>\n",
       "      <td>97.105.19.58</td>\n",
       "      <td>16/Apr/2019 19:34:42</td>\n",
       "      <td>GET</td>\n",
       "      <td>/api/v1/sales?page=81</td>\n",
       "      <td>HTTP/1.1</td>\n",
       "      <td>200</td>\n",
       "      <td>512495</td>\n",
       "      <td>python-requests/2.21.0</td>\n",
       "    </tr>\n",
       "    <tr>\n",
       "      <th>1</th>\n",
       "      <td>97.105.19.58</td>\n",
       "      <td>16/Apr/2019 19:34:42</td>\n",
       "      <td>GET</td>\n",
       "      <td>/api/v1/items</td>\n",
       "      <td>HTTP/1.1</td>\n",
       "      <td>200</td>\n",
       "      <td>3561</td>\n",
       "      <td>python-requests/2.21.0</td>\n",
       "    </tr>\n",
       "    <tr>\n",
       "      <th>2</th>\n",
       "      <td>97.105.19.58</td>\n",
       "      <td>16/Apr/2019 19:34:44</td>\n",
       "      <td>GET</td>\n",
       "      <td>/api/v1/sales?page=82</td>\n",
       "      <td>HTTP/1.1</td>\n",
       "      <td>200</td>\n",
       "      <td>510103</td>\n",
       "      <td>python-requests/2.21.0</td>\n",
       "    </tr>\n",
       "    <tr>\n",
       "      <th>3</th>\n",
       "      <td>97.105.19.58</td>\n",
       "      <td>16/Apr/2019 19:34:46</td>\n",
       "      <td>GET</td>\n",
       "      <td>/api/v1/sales?page=83</td>\n",
       "      <td>HTTP/1.1</td>\n",
       "      <td>200</td>\n",
       "      <td>510003</td>\n",
       "      <td>python-requests/2.21.0</td>\n",
       "    </tr>\n",
       "    <tr>\n",
       "      <th>4</th>\n",
       "      <td>97.105.19.58</td>\n",
       "      <td>16/Apr/2019 19:34:48</td>\n",
       "      <td>GET</td>\n",
       "      <td>/api/v1/sales?page=84</td>\n",
       "      <td>HTTP/1.1</td>\n",
       "      <td>200</td>\n",
       "      <td>511963</td>\n",
       "      <td>python-requests/2.21.0</td>\n",
       "    </tr>\n",
       "  </tbody>\n",
       "</table>\n",
       "</div>"
      ],
      "text/plain": [
       "             ip             timestamp request_method           request_path  \\\n",
       "0  97.105.19.58  16/Apr/2019 19:34:42            GET  /api/v1/sales?page=81   \n",
       "1  97.105.19.58  16/Apr/2019 19:34:42            GET          /api/v1/items   \n",
       "2  97.105.19.58  16/Apr/2019 19:34:44            GET  /api/v1/sales?page=82   \n",
       "3  97.105.19.58  16/Apr/2019 19:34:46            GET  /api/v1/sales?page=83   \n",
       "4  97.105.19.58  16/Apr/2019 19:34:48            GET  /api/v1/sales?page=84   \n",
       "\n",
       "  http_version status_code    size              user_agent  \n",
       "0     HTTP/1.1         200  512495  python-requests/2.21.0  \n",
       "1     HTTP/1.1         200    3561  python-requests/2.21.0  \n",
       "2     HTTP/1.1         200  510103  python-requests/2.21.0  \n",
       "3     HTTP/1.1         200  510003  python-requests/2.21.0  \n",
       "4     HTTP/1.1         200  511963  python-requests/2.21.0  "
      ]
     },
     "execution_count": 37,
     "metadata": {},
     "output_type": "execute_result"
    }
   ],
   "source": [
    "df.head()"
   ]
  },
  {
   "cell_type": "code",
   "execution_count": 38,
   "id": "45961b55-c731-4eb5-b1c4-e7921cfb3ae2",
   "metadata": {},
   "outputs": [],
   "source": [
    "# adding some anomalies\n",
    "new = pd.DataFrame([\n",
    "    [\"95.31.18.119\", \"21/Apr/2019 10:02:41\", \"GET\", \"/api/v1/items/\", \"HTTP/1.1\", \n",
    "     '200', 1153005, \"python-requests/2.21.0\"],\n",
    "    [\"95.31.16.121\", \"17/Apr/2019 19:36:41\", \"GET\", \"/api/v1/sales?page=79/\", \"HTTP/1.1\", \n",
    "     '301', 1005, \"python-requests/2.21.0\"],\n",
    "    [\"97.105.15.120\", \"18/Apr/2019 19:42:41\", \"GET\", \"/api/v1/sales?page=79/\", \"HTTP/1.1\", \n",
    "     '301', 2560, \"python-requests/2.21.0\"],\n",
    "    [\"97.105.19.58\", \"19/Apr/2019 19:42:41\", \"GET\", \"/api/v1/sales?page=79/\", \"HTTP/1.1\", \n",
    "     '200', 2056327, \"python-requests/2.21.0\"],\n",
    "], columns=df.columns)"
   ]
  },
  {
   "cell_type": "code",
   "execution_count": 39,
   "id": "e3e217f9-55f7-49e6-9baf-7b1f7e1eb7b8",
   "metadata": {},
   "outputs": [],
   "source": [
    "df = pd.concat([df, new])"
   ]
  },
  {
   "cell_type": "code",
   "execution_count": 40,
   "id": "838907c7-a747-4ae7-9666-157a8c5828cd",
   "metadata": {},
   "outputs": [
    {
     "data": {
      "text/html": [
       "<div>\n",
       "<style scoped>\n",
       "    .dataframe tbody tr th:only-of-type {\n",
       "        vertical-align: middle;\n",
       "    }\n",
       "\n",
       "    .dataframe tbody tr th {\n",
       "        vertical-align: top;\n",
       "    }\n",
       "\n",
       "    .dataframe thead th {\n",
       "        text-align: right;\n",
       "    }\n",
       "</style>\n",
       "<table border=\"1\" class=\"dataframe\">\n",
       "  <thead>\n",
       "    <tr style=\"text-align: right;\">\n",
       "      <th></th>\n",
       "      <th>ip</th>\n",
       "      <th>timestamp</th>\n",
       "      <th>request_method</th>\n",
       "      <th>request_path</th>\n",
       "      <th>http_version</th>\n",
       "      <th>status_code</th>\n",
       "      <th>size</th>\n",
       "      <th>user_agent</th>\n",
       "    </tr>\n",
       "  </thead>\n",
       "  <tbody>\n",
       "    <tr>\n",
       "      <th>0</th>\n",
       "      <td>97.105.19.58</td>\n",
       "      <td>16/Apr/2019 19:34:42</td>\n",
       "      <td>GET</td>\n",
       "      <td>/api/v1/sales?page=81</td>\n",
       "      <td>HTTP/1.1</td>\n",
       "      <td>200</td>\n",
       "      <td>512495</td>\n",
       "      <td>python-requests/2.21.0</td>\n",
       "    </tr>\n",
       "    <tr>\n",
       "      <th>1</th>\n",
       "      <td>97.105.19.58</td>\n",
       "      <td>16/Apr/2019 19:34:42</td>\n",
       "      <td>GET</td>\n",
       "      <td>/api/v1/items</td>\n",
       "      <td>HTTP/1.1</td>\n",
       "      <td>200</td>\n",
       "      <td>3561</td>\n",
       "      <td>python-requests/2.21.0</td>\n",
       "    </tr>\n",
       "    <tr>\n",
       "      <th>2</th>\n",
       "      <td>97.105.19.58</td>\n",
       "      <td>16/Apr/2019 19:34:44</td>\n",
       "      <td>GET</td>\n",
       "      <td>/api/v1/sales?page=82</td>\n",
       "      <td>HTTP/1.1</td>\n",
       "      <td>200</td>\n",
       "      <td>510103</td>\n",
       "      <td>python-requests/2.21.0</td>\n",
       "    </tr>\n",
       "    <tr>\n",
       "      <th>3</th>\n",
       "      <td>97.105.19.58</td>\n",
       "      <td>16/Apr/2019 19:34:46</td>\n",
       "      <td>GET</td>\n",
       "      <td>/api/v1/sales?page=83</td>\n",
       "      <td>HTTP/1.1</td>\n",
       "      <td>200</td>\n",
       "      <td>510003</td>\n",
       "      <td>python-requests/2.21.0</td>\n",
       "    </tr>\n",
       "    <tr>\n",
       "      <th>4</th>\n",
       "      <td>97.105.19.58</td>\n",
       "      <td>16/Apr/2019 19:34:48</td>\n",
       "      <td>GET</td>\n",
       "      <td>/api/v1/sales?page=84</td>\n",
       "      <td>HTTP/1.1</td>\n",
       "      <td>200</td>\n",
       "      <td>511963</td>\n",
       "      <td>python-requests/2.21.0</td>\n",
       "    </tr>\n",
       "    <tr>\n",
       "      <th>...</th>\n",
       "      <td>...</td>\n",
       "      <td>...</td>\n",
       "      <td>...</td>\n",
       "      <td>...</td>\n",
       "      <td>...</td>\n",
       "      <td>...</td>\n",
       "      <td>...</td>\n",
       "      <td>...</td>\n",
       "    </tr>\n",
       "    <tr>\n",
       "      <th>13973</th>\n",
       "      <td>97.105.19.58</td>\n",
       "      <td>17/Apr/2019 12:55:14</td>\n",
       "      <td>GET</td>\n",
       "      <td>/api/v1/sales?page=71</td>\n",
       "      <td>HTTP/1.1</td>\n",
       "      <td>200</td>\n",
       "      <td>510166</td>\n",
       "      <td>python-requests/2.21.0</td>\n",
       "    </tr>\n",
       "    <tr>\n",
       "      <th>0</th>\n",
       "      <td>95.31.18.119</td>\n",
       "      <td>21/Apr/2019 10:02:41</td>\n",
       "      <td>GET</td>\n",
       "      <td>/api/v1/items/</td>\n",
       "      <td>HTTP/1.1</td>\n",
       "      <td>200</td>\n",
       "      <td>1153005</td>\n",
       "      <td>python-requests/2.21.0</td>\n",
       "    </tr>\n",
       "    <tr>\n",
       "      <th>1</th>\n",
       "      <td>95.31.16.121</td>\n",
       "      <td>17/Apr/2019 19:36:41</td>\n",
       "      <td>GET</td>\n",
       "      <td>/api/v1/sales?page=79/</td>\n",
       "      <td>HTTP/1.1</td>\n",
       "      <td>301</td>\n",
       "      <td>1005</td>\n",
       "      <td>python-requests/2.21.0</td>\n",
       "    </tr>\n",
       "    <tr>\n",
       "      <th>2</th>\n",
       "      <td>97.105.15.120</td>\n",
       "      <td>18/Apr/2019 19:42:41</td>\n",
       "      <td>GET</td>\n",
       "      <td>/api/v1/sales?page=79/</td>\n",
       "      <td>HTTP/1.1</td>\n",
       "      <td>301</td>\n",
       "      <td>2560</td>\n",
       "      <td>python-requests/2.21.0</td>\n",
       "    </tr>\n",
       "    <tr>\n",
       "      <th>3</th>\n",
       "      <td>97.105.19.58</td>\n",
       "      <td>19/Apr/2019 19:42:41</td>\n",
       "      <td>GET</td>\n",
       "      <td>/api/v1/sales?page=79/</td>\n",
       "      <td>HTTP/1.1</td>\n",
       "      <td>200</td>\n",
       "      <td>2056327</td>\n",
       "      <td>python-requests/2.21.0</td>\n",
       "    </tr>\n",
       "  </tbody>\n",
       "</table>\n",
       "<p>13978 rows × 8 columns</p>\n",
       "</div>"
      ],
      "text/plain": [
       "                  ip             timestamp request_method  \\\n",
       "0       97.105.19.58  16/Apr/2019 19:34:42            GET   \n",
       "1       97.105.19.58  16/Apr/2019 19:34:42            GET   \n",
       "2       97.105.19.58  16/Apr/2019 19:34:44            GET   \n",
       "3       97.105.19.58  16/Apr/2019 19:34:46            GET   \n",
       "4       97.105.19.58  16/Apr/2019 19:34:48            GET   \n",
       "...              ...                   ...            ...   \n",
       "13973   97.105.19.58  17/Apr/2019 12:55:14            GET   \n",
       "0       95.31.18.119  21/Apr/2019 10:02:41            GET   \n",
       "1       95.31.16.121  17/Apr/2019 19:36:41            GET   \n",
       "2      97.105.15.120  18/Apr/2019 19:42:41            GET   \n",
       "3       97.105.19.58  19/Apr/2019 19:42:41            GET   \n",
       "\n",
       "                 request_path http_version status_code     size  \\\n",
       "0       /api/v1/sales?page=81     HTTP/1.1         200   512495   \n",
       "1               /api/v1/items     HTTP/1.1         200     3561   \n",
       "2       /api/v1/sales?page=82     HTTP/1.1         200   510103   \n",
       "3       /api/v1/sales?page=83     HTTP/1.1         200   510003   \n",
       "4       /api/v1/sales?page=84     HTTP/1.1         200   511963   \n",
       "...                       ...          ...         ...      ...   \n",
       "13973   /api/v1/sales?page=71     HTTP/1.1         200   510166   \n",
       "0              /api/v1/items/     HTTP/1.1         200  1153005   \n",
       "1      /api/v1/sales?page=79/     HTTP/1.1         301     1005   \n",
       "2      /api/v1/sales?page=79/     HTTP/1.1         301     2560   \n",
       "3      /api/v1/sales?page=79/     HTTP/1.1         200  2056327   \n",
       "\n",
       "                   user_agent  \n",
       "0      python-requests/2.21.0  \n",
       "1      python-requests/2.21.0  \n",
       "2      python-requests/2.21.0  \n",
       "3      python-requests/2.21.0  \n",
       "4      python-requests/2.21.0  \n",
       "...                       ...  \n",
       "13973  python-requests/2.21.0  \n",
       "0      python-requests/2.21.0  \n",
       "1      python-requests/2.21.0  \n",
       "2      python-requests/2.21.0  \n",
       "3      python-requests/2.21.0  \n",
       "\n",
       "[13978 rows x 8 columns]"
      ]
     },
     "execution_count": 40,
     "metadata": {},
     "output_type": "execute_result"
    }
   ],
   "source": [
    "df"
   ]
  },
  {
   "cell_type": "code",
   "execution_count": 41,
   "id": "a089ec83-e2e7-47c1-a26e-f6b276acdabf",
   "metadata": {},
   "outputs": [],
   "source": [
    "df = df.reset_index(drop=True)"
   ]
  },
  {
   "cell_type": "code",
   "execution_count": 42,
   "id": "c44b75e4-70c9-4f56-8f34-0b5ffaa6e863",
   "metadata": {},
   "outputs": [
    {
     "data": {
      "text/html": [
       "<div>\n",
       "<style scoped>\n",
       "    .dataframe tbody tr th:only-of-type {\n",
       "        vertical-align: middle;\n",
       "    }\n",
       "\n",
       "    .dataframe tbody tr th {\n",
       "        vertical-align: top;\n",
       "    }\n",
       "\n",
       "    .dataframe thead th {\n",
       "        text-align: right;\n",
       "    }\n",
       "</style>\n",
       "<table border=\"1\" class=\"dataframe\">\n",
       "  <thead>\n",
       "    <tr style=\"text-align: right;\">\n",
       "      <th></th>\n",
       "      <th>ip</th>\n",
       "      <th>timestamp</th>\n",
       "      <th>request_method</th>\n",
       "      <th>request_path</th>\n",
       "      <th>http_version</th>\n",
       "      <th>status_code</th>\n",
       "      <th>size</th>\n",
       "      <th>user_agent</th>\n",
       "    </tr>\n",
       "  </thead>\n",
       "  <tbody>\n",
       "    <tr>\n",
       "      <th>0</th>\n",
       "      <td>97.105.19.58</td>\n",
       "      <td>16/Apr/2019 19:34:42</td>\n",
       "      <td>GET</td>\n",
       "      <td>/api/v1/sales?page=81</td>\n",
       "      <td>HTTP/1.1</td>\n",
       "      <td>200</td>\n",
       "      <td>512495</td>\n",
       "      <td>python-requests/2.21.0</td>\n",
       "    </tr>\n",
       "    <tr>\n",
       "      <th>1</th>\n",
       "      <td>97.105.19.58</td>\n",
       "      <td>16/Apr/2019 19:34:42</td>\n",
       "      <td>GET</td>\n",
       "      <td>/api/v1/items</td>\n",
       "      <td>HTTP/1.1</td>\n",
       "      <td>200</td>\n",
       "      <td>3561</td>\n",
       "      <td>python-requests/2.21.0</td>\n",
       "    </tr>\n",
       "    <tr>\n",
       "      <th>2</th>\n",
       "      <td>97.105.19.58</td>\n",
       "      <td>16/Apr/2019 19:34:44</td>\n",
       "      <td>GET</td>\n",
       "      <td>/api/v1/sales?page=82</td>\n",
       "      <td>HTTP/1.1</td>\n",
       "      <td>200</td>\n",
       "      <td>510103</td>\n",
       "      <td>python-requests/2.21.0</td>\n",
       "    </tr>\n",
       "    <tr>\n",
       "      <th>3</th>\n",
       "      <td>97.105.19.58</td>\n",
       "      <td>16/Apr/2019 19:34:46</td>\n",
       "      <td>GET</td>\n",
       "      <td>/api/v1/sales?page=83</td>\n",
       "      <td>HTTP/1.1</td>\n",
       "      <td>200</td>\n",
       "      <td>510003</td>\n",
       "      <td>python-requests/2.21.0</td>\n",
       "    </tr>\n",
       "    <tr>\n",
       "      <th>4</th>\n",
       "      <td>97.105.19.58</td>\n",
       "      <td>16/Apr/2019 19:34:48</td>\n",
       "      <td>GET</td>\n",
       "      <td>/api/v1/sales?page=84</td>\n",
       "      <td>HTTP/1.1</td>\n",
       "      <td>200</td>\n",
       "      <td>511963</td>\n",
       "      <td>python-requests/2.21.0</td>\n",
       "    </tr>\n",
       "  </tbody>\n",
       "</table>\n",
       "</div>"
      ],
      "text/plain": [
       "             ip             timestamp request_method           request_path  \\\n",
       "0  97.105.19.58  16/Apr/2019 19:34:42            GET  /api/v1/sales?page=81   \n",
       "1  97.105.19.58  16/Apr/2019 19:34:42            GET          /api/v1/items   \n",
       "2  97.105.19.58  16/Apr/2019 19:34:44            GET  /api/v1/sales?page=82   \n",
       "3  97.105.19.58  16/Apr/2019 19:34:46            GET  /api/v1/sales?page=83   \n",
       "4  97.105.19.58  16/Apr/2019 19:34:48            GET  /api/v1/sales?page=84   \n",
       "\n",
       "  http_version status_code    size              user_agent  \n",
       "0     HTTP/1.1         200  512495  python-requests/2.21.0  \n",
       "1     HTTP/1.1         200    3561  python-requests/2.21.0  \n",
       "2     HTTP/1.1         200  510103  python-requests/2.21.0  \n",
       "3     HTTP/1.1         200  510003  python-requests/2.21.0  \n",
       "4     HTTP/1.1         200  511963  python-requests/2.21.0  "
      ]
     },
     "execution_count": 42,
     "metadata": {},
     "output_type": "execute_result"
    }
   ],
   "source": [
    "df.head()"
   ]
  },
  {
   "cell_type": "code",
   "execution_count": 43,
   "id": "8d23b503-b1f4-495d-a4e8-17349c7a039f",
   "metadata": {},
   "outputs": [],
   "source": [
    "#divide by 1024 twice\n",
    "df['size_mb'] = df['size'] / 1024 / 1024"
   ]
  },
  {
   "cell_type": "code",
   "execution_count": 44,
   "id": "383f32e0-64b2-41a4-a1c4-a612d9f6fca6",
   "metadata": {},
   "outputs": [
    {
     "data": {
      "text/html": [
       "<div>\n",
       "<style scoped>\n",
       "    .dataframe tbody tr th:only-of-type {\n",
       "        vertical-align: middle;\n",
       "    }\n",
       "\n",
       "    .dataframe tbody tr th {\n",
       "        vertical-align: top;\n",
       "    }\n",
       "\n",
       "    .dataframe thead th {\n",
       "        text-align: right;\n",
       "    }\n",
       "</style>\n",
       "<table border=\"1\" class=\"dataframe\">\n",
       "  <thead>\n",
       "    <tr style=\"text-align: right;\">\n",
       "      <th></th>\n",
       "      <th>ip</th>\n",
       "      <th>timestamp</th>\n",
       "      <th>request_method</th>\n",
       "      <th>request_path</th>\n",
       "      <th>http_version</th>\n",
       "      <th>status_code</th>\n",
       "      <th>size</th>\n",
       "      <th>user_agent</th>\n",
       "      <th>size_mb</th>\n",
       "    </tr>\n",
       "  </thead>\n",
       "  <tbody>\n",
       "    <tr>\n",
       "      <th>0</th>\n",
       "      <td>97.105.19.58</td>\n",
       "      <td>16/Apr/2019 19:34:42</td>\n",
       "      <td>GET</td>\n",
       "      <td>/api/v1/sales?page=81</td>\n",
       "      <td>HTTP/1.1</td>\n",
       "      <td>200</td>\n",
       "      <td>512495</td>\n",
       "      <td>python-requests/2.21.0</td>\n",
       "      <td>0.488753</td>\n",
       "    </tr>\n",
       "    <tr>\n",
       "      <th>1</th>\n",
       "      <td>97.105.19.58</td>\n",
       "      <td>16/Apr/2019 19:34:42</td>\n",
       "      <td>GET</td>\n",
       "      <td>/api/v1/items</td>\n",
       "      <td>HTTP/1.1</td>\n",
       "      <td>200</td>\n",
       "      <td>3561</td>\n",
       "      <td>python-requests/2.21.0</td>\n",
       "      <td>0.003396</td>\n",
       "    </tr>\n",
       "    <tr>\n",
       "      <th>2</th>\n",
       "      <td>97.105.19.58</td>\n",
       "      <td>16/Apr/2019 19:34:44</td>\n",
       "      <td>GET</td>\n",
       "      <td>/api/v1/sales?page=82</td>\n",
       "      <td>HTTP/1.1</td>\n",
       "      <td>200</td>\n",
       "      <td>510103</td>\n",
       "      <td>python-requests/2.21.0</td>\n",
       "      <td>0.486472</td>\n",
       "    </tr>\n",
       "    <tr>\n",
       "      <th>3</th>\n",
       "      <td>97.105.19.58</td>\n",
       "      <td>16/Apr/2019 19:34:46</td>\n",
       "      <td>GET</td>\n",
       "      <td>/api/v1/sales?page=83</td>\n",
       "      <td>HTTP/1.1</td>\n",
       "      <td>200</td>\n",
       "      <td>510003</td>\n",
       "      <td>python-requests/2.21.0</td>\n",
       "      <td>0.486377</td>\n",
       "    </tr>\n",
       "    <tr>\n",
       "      <th>4</th>\n",
       "      <td>97.105.19.58</td>\n",
       "      <td>16/Apr/2019 19:34:48</td>\n",
       "      <td>GET</td>\n",
       "      <td>/api/v1/sales?page=84</td>\n",
       "      <td>HTTP/1.1</td>\n",
       "      <td>200</td>\n",
       "      <td>511963</td>\n",
       "      <td>python-requests/2.21.0</td>\n",
       "      <td>0.488246</td>\n",
       "    </tr>\n",
       "  </tbody>\n",
       "</table>\n",
       "</div>"
      ],
      "text/plain": [
       "             ip             timestamp request_method           request_path  \\\n",
       "0  97.105.19.58  16/Apr/2019 19:34:42            GET  /api/v1/sales?page=81   \n",
       "1  97.105.19.58  16/Apr/2019 19:34:42            GET          /api/v1/items   \n",
       "2  97.105.19.58  16/Apr/2019 19:34:44            GET  /api/v1/sales?page=82   \n",
       "3  97.105.19.58  16/Apr/2019 19:34:46            GET  /api/v1/sales?page=83   \n",
       "4  97.105.19.58  16/Apr/2019 19:34:48            GET  /api/v1/sales?page=84   \n",
       "\n",
       "  http_version status_code    size              user_agent   size_mb  \n",
       "0     HTTP/1.1         200  512495  python-requests/2.21.0  0.488753  \n",
       "1     HTTP/1.1         200    3561  python-requests/2.21.0  0.003396  \n",
       "2     HTTP/1.1         200  510103  python-requests/2.21.0  0.486472  \n",
       "3     HTTP/1.1         200  510003  python-requests/2.21.0  0.486377  \n",
       "4     HTTP/1.1         200  511963  python-requests/2.21.0  0.488246  "
      ]
     },
     "execution_count": 44,
     "metadata": {},
     "output_type": "execute_result"
    }
   ],
   "source": [
    "df.head()"
   ]
  },
  {
   "cell_type": "markdown",
   "id": "df9111c8-3d8e-4f83-a986-6ada07229f89",
   "metadata": {},
   "source": [
    "### Detecting Anomalies in Discrete Variables\n",
    "\n",
    "* count\n",
    "* frequency\n",
    "* visualize\n",
    "* conditional probability"
   ]
  },
  {
   "cell_type": "markdown",
   "id": "3accb55a-2dd2-48c3-8924-7cbda2b40d95",
   "metadata": {},
   "source": [
    "### Count\n",
    "* let's look at user_agent"
   ]
  },
  {
   "cell_type": "markdown",
   "id": "161039d1-fdcf-418b-b0a8-e6e4cb72e2ff",
   "metadata": {},
   "source": [
    "# use replace() to rename the rows containing the string\n",
    "df['user'] = df['user_agent'].replace('Mozilla/5.0 (Macintosh; Intel Mac OS X 10_14_4) AppleWebKit/537.36 (KHTML, like Gecko) Chrome/73.0.3683.103 Safari/537.36', 'Mozilla 1')\n",
    "df['user'] = df['user_agent'].replace('Mozilla/5.0 (Macintosh; Intel Mac OS X 10.14; rv:66.0) Gecko/20100101 Firefox/66.0', 'Mozilla 2')\n",
    "df['user'] = df['user_agent'].replace('Slackbot-LinkExpanding 1.0 (+https://api.slack.com/robots)', 'Slackbot 1')\n",
    "df['user'] = df['user_agent'].replace('Mozilla/5.0 (Macintosh; Intel Mac OS X 10_14_3) AppleWebKit/537.36 (KHTML, like Gecko) Chrome/73.0.3683.103 Safari/537.36', 'Mozilla 3')\n",
    "df['user'] = df['user_agent'].replace('Mozilla/5.0 (Macintosh; Intel Mac OS X 10_14_3) AppleWebKit/537.36 (KHTML, like Gecko) Chrome/72.0.3626.121 Safari/537.36', 'Mozilla 4')\n",
    "df['user'] = df['user_agent'].replace('Slackbot 1.0 (+https://api.slack.com/robots)', 'Slackbot 2')"
   ]
  },
  {
   "cell_type": "code",
   "execution_count": 47,
   "id": "7766ada7-d535-4fcd-8c13-156bbaeddad0",
   "metadata": {},
   "outputs": [],
   "source": [
    "# use replace() to rename the rows containing the strings\n",
    "df['user'] = df['user_agent'].replace('Mozilla/5.0 (Macintosh; Intel Mac OS X 10_14_4) AppleWebKit/537.36 (KHTML, like Gecko) Chrome/73.0.3683.103 Safari/537.36', 'Mozilla 1') \\\n",
    "    .replace('Mozilla/5.0 (Macintosh; Intel Mac OS X 10.14; rv:66.0) Gecko/20100101 Firefox/66.0', 'Mozilla 2') \\\n",
    "    .replace('Slackbot-LinkExpanding 1.0 (+https://api.slack.com/robots)', 'Slackbot 1') \\\n",
    "    .replace('Mozilla/5.0 (Macintosh; Intel Mac OS X 10_14_3) AppleWebKit/537.36 (KHTML, like Gecko) Chrome/73.0.3683.103 Safari/537.36', 'Mozilla 3') \\\n",
    "    .replace('Mozilla/5.0 (Macintosh; Intel Mac OS X 10_14_3) AppleWebKit/537.36 (KHTML, like Gecko) Chrome/72.0.3626.121 Safari/537.36', 'Mozilla 4') \\\n",
    "    .replace('Slackbot 1.0 (+https://api.slack.com/robots)', 'Slackbot 2')"
   ]
  },
  {
   "cell_type": "code",
   "execution_count": 48,
   "id": "279d76db-5148-4bec-a85a-1e34e035b849",
   "metadata": {},
   "outputs": [
    {
     "data": {
      "text/html": [
       "<div>\n",
       "<style scoped>\n",
       "    .dataframe tbody tr th:only-of-type {\n",
       "        vertical-align: middle;\n",
       "    }\n",
       "\n",
       "    .dataframe tbody tr th {\n",
       "        vertical-align: top;\n",
       "    }\n",
       "\n",
       "    .dataframe thead th {\n",
       "        text-align: right;\n",
       "    }\n",
       "</style>\n",
       "<table border=\"1\" class=\"dataframe\">\n",
       "  <thead>\n",
       "    <tr style=\"text-align: right;\">\n",
       "      <th></th>\n",
       "      <th>ip</th>\n",
       "      <th>timestamp</th>\n",
       "      <th>request_method</th>\n",
       "      <th>request_path</th>\n",
       "      <th>http_version</th>\n",
       "      <th>status_code</th>\n",
       "      <th>size</th>\n",
       "      <th>user_agent</th>\n",
       "      <th>size_mb</th>\n",
       "      <th>user</th>\n",
       "    </tr>\n",
       "  </thead>\n",
       "  <tbody>\n",
       "    <tr>\n",
       "      <th>0</th>\n",
       "      <td>97.105.19.58</td>\n",
       "      <td>16/Apr/2019 19:34:42</td>\n",
       "      <td>GET</td>\n",
       "      <td>/api/v1/sales?page=81</td>\n",
       "      <td>HTTP/1.1</td>\n",
       "      <td>200</td>\n",
       "      <td>512495</td>\n",
       "      <td>python-requests/2.21.0</td>\n",
       "      <td>0.488753</td>\n",
       "      <td>python-requests/2.21.0</td>\n",
       "    </tr>\n",
       "    <tr>\n",
       "      <th>1</th>\n",
       "      <td>97.105.19.58</td>\n",
       "      <td>16/Apr/2019 19:34:42</td>\n",
       "      <td>GET</td>\n",
       "      <td>/api/v1/items</td>\n",
       "      <td>HTTP/1.1</td>\n",
       "      <td>200</td>\n",
       "      <td>3561</td>\n",
       "      <td>python-requests/2.21.0</td>\n",
       "      <td>0.003396</td>\n",
       "      <td>python-requests/2.21.0</td>\n",
       "    </tr>\n",
       "    <tr>\n",
       "      <th>2</th>\n",
       "      <td>97.105.19.58</td>\n",
       "      <td>16/Apr/2019 19:34:44</td>\n",
       "      <td>GET</td>\n",
       "      <td>/api/v1/sales?page=82</td>\n",
       "      <td>HTTP/1.1</td>\n",
       "      <td>200</td>\n",
       "      <td>510103</td>\n",
       "      <td>python-requests/2.21.0</td>\n",
       "      <td>0.486472</td>\n",
       "      <td>python-requests/2.21.0</td>\n",
       "    </tr>\n",
       "    <tr>\n",
       "      <th>3</th>\n",
       "      <td>97.105.19.58</td>\n",
       "      <td>16/Apr/2019 19:34:46</td>\n",
       "      <td>GET</td>\n",
       "      <td>/api/v1/sales?page=83</td>\n",
       "      <td>HTTP/1.1</td>\n",
       "      <td>200</td>\n",
       "      <td>510003</td>\n",
       "      <td>python-requests/2.21.0</td>\n",
       "      <td>0.486377</td>\n",
       "      <td>python-requests/2.21.0</td>\n",
       "    </tr>\n",
       "    <tr>\n",
       "      <th>4</th>\n",
       "      <td>97.105.19.58</td>\n",
       "      <td>16/Apr/2019 19:34:48</td>\n",
       "      <td>GET</td>\n",
       "      <td>/api/v1/sales?page=84</td>\n",
       "      <td>HTTP/1.1</td>\n",
       "      <td>200</td>\n",
       "      <td>511963</td>\n",
       "      <td>python-requests/2.21.0</td>\n",
       "      <td>0.488246</td>\n",
       "      <td>python-requests/2.21.0</td>\n",
       "    </tr>\n",
       "  </tbody>\n",
       "</table>\n",
       "</div>"
      ],
      "text/plain": [
       "             ip             timestamp request_method           request_path  \\\n",
       "0  97.105.19.58  16/Apr/2019 19:34:42            GET  /api/v1/sales?page=81   \n",
       "1  97.105.19.58  16/Apr/2019 19:34:42            GET          /api/v1/items   \n",
       "2  97.105.19.58  16/Apr/2019 19:34:44            GET  /api/v1/sales?page=82   \n",
       "3  97.105.19.58  16/Apr/2019 19:34:46            GET  /api/v1/sales?page=83   \n",
       "4  97.105.19.58  16/Apr/2019 19:34:48            GET  /api/v1/sales?page=84   \n",
       "\n",
       "  http_version status_code    size              user_agent   size_mb  \\\n",
       "0     HTTP/1.1         200  512495  python-requests/2.21.0  0.488753   \n",
       "1     HTTP/1.1         200    3561  python-requests/2.21.0  0.003396   \n",
       "2     HTTP/1.1         200  510103  python-requests/2.21.0  0.486472   \n",
       "3     HTTP/1.1         200  510003  python-requests/2.21.0  0.486377   \n",
       "4     HTTP/1.1         200  511963  python-requests/2.21.0  0.488246   \n",
       "\n",
       "                     user  \n",
       "0  python-requests/2.21.0  \n",
       "1  python-requests/2.21.0  \n",
       "2  python-requests/2.21.0  \n",
       "3  python-requests/2.21.0  \n",
       "4  python-requests/2.21.0  "
      ]
     },
     "execution_count": 48,
     "metadata": {},
     "output_type": "execute_result"
    }
   ],
   "source": [
    "df.head()"
   ]
  },
  {
   "cell_type": "code",
   "execution_count": 49,
   "id": "ecad5ad9-cbe9-4574-a273-0efce83b9de8",
   "metadata": {},
   "outputs": [
    {
     "data": {
      "text/plain": [
       "ip              user                  \n",
       "173.173.113.51  python-requests/2.21.0     1059\n",
       "24.26.242.9     python-requests/2.21.0       21\n",
       "3.88.129.158    Slackbot 1                    1\n",
       "3.92.201.136    Slackbot 1                    1\n",
       "34.207.64.242   Slackbot 2                    1\n",
       "34.229.70.250   Slackbot 2                    1\n",
       "35.174.209.2    Slackbot 2                    1\n",
       "35.175.171.137  Slackbot 1                    2\n",
       "45.23.250.16    python-requests/2.21.0        1\n",
       "52.87.230.102   Slackbot 1                    1\n",
       "                Slackbot 2                    1\n",
       "52.90.165.200   Slackbot 2                    1\n",
       "52.91.30.150    Slackbot 1                    1\n",
       "54.145.52.184   Slackbot 2                    1\n",
       "54.172.14.223   Slackbot 1                    1\n",
       "68.201.219.223  python-requests/2.21.0       21\n",
       "70.121.214.34   Mozilla 4                     2\n",
       "72.181.105.81   Mozilla 1                     8\n",
       "                Mozilla 2                     8\n",
       "                python-requests/2.21.0      230\n",
       "72.181.113.170  Mozilla 3                     2\n",
       "                python-requests/2.21.0      611\n",
       "95.31.16.121    python-requests/2.21.0        1\n",
       "95.31.18.119    python-requests/2.21.0        1\n",
       "97.105.15.120   python-requests/2.21.0        1\n",
       "97.105.19.58    Mozilla 1                    26\n",
       "                Mozilla 3                     2\n",
       "                Python-urllib/3.7             1\n",
       "                python-requests/2.20.1     1911\n",
       "                python-requests/2.21.0    10059\n",
       "dtype: int64"
      ]
     },
     "execution_count": 49,
     "metadata": {},
     "output_type": "execute_result"
    }
   ],
   "source": [
    "df.groupby(['ip', 'user']).size()"
   ]
  },
  {
   "cell_type": "code",
   "execution_count": 50,
   "id": "7b45746d-4416-465f-8129-450859ec9b03",
   "metadata": {},
   "outputs": [
    {
     "data": {
      "text/plain": [
       "ip              user                  \n",
       "173.173.113.51  python-requests/2.21.0    0.075762\n",
       "24.26.242.9     python-requests/2.21.0    0.001502\n",
       "3.88.129.158    Slackbot 1                0.000072\n",
       "3.92.201.136    Slackbot 1                0.000072\n",
       "34.207.64.242   Slackbot 2                0.000072\n",
       "34.229.70.250   Slackbot 2                0.000072\n",
       "35.174.209.2    Slackbot 2                0.000072\n",
       "35.175.171.137  Slackbot 1                0.000143\n",
       "45.23.250.16    python-requests/2.21.0    0.000072\n",
       "52.87.230.102   Slackbot 1                0.000072\n",
       "                Slackbot 2                0.000072\n",
       "52.90.165.200   Slackbot 2                0.000072\n",
       "52.91.30.150    Slackbot 1                0.000072\n",
       "54.145.52.184   Slackbot 2                0.000072\n",
       "54.172.14.223   Slackbot 1                0.000072\n",
       "68.201.219.223  python-requests/2.21.0    0.001502\n",
       "70.121.214.34   Mozilla 4                 0.000143\n",
       "72.181.105.81   Mozilla 1                 0.000572\n",
       "                Mozilla 2                 0.000572\n",
       "                python-requests/2.21.0    0.016454\n",
       "72.181.113.170  Mozilla 3                 0.000143\n",
       "                python-requests/2.21.0    0.043712\n",
       "95.31.16.121    python-requests/2.21.0    0.000072\n",
       "95.31.18.119    python-requests/2.21.0    0.000072\n",
       "97.105.15.120   python-requests/2.21.0    0.000072\n",
       "97.105.19.58    Mozilla 1                 0.001860\n",
       "                Mozilla 3                 0.000143\n",
       "                Python-urllib/3.7         0.000072\n",
       "                python-requests/2.20.1    0.136715\n",
       "                python-requests/2.21.0    0.719631\n",
       "dtype: float64"
      ]
     },
     "execution_count": 50,
     "metadata": {},
     "output_type": "execute_result"
    }
   ],
   "source": [
    "#probability of ip and status code\n",
    "p_a_and_b = df.groupby(['ip','user']).size() / len(df)\n",
    "p_a_and_b"
   ]
  },
  {
   "cell_type": "code",
   "execution_count": 53,
   "id": "6b6e8c8a-2873-4ba2-afac-e15832306d5a",
   "metadata": {},
   "outputs": [
    {
     "data": {
      "text/plain": [
       "ip\n",
       "173.173.113.51    0.075762\n",
       "24.26.242.9       0.001502\n",
       "3.88.129.158      0.000072\n",
       "3.92.201.136      0.000072\n",
       "34.207.64.242     0.000072\n",
       "34.229.70.250     0.000072\n",
       "35.174.209.2      0.000072\n",
       "35.175.171.137    0.000143\n",
       "45.23.250.16      0.000072\n",
       "52.87.230.102     0.000143\n",
       "52.90.165.200     0.000072\n",
       "52.91.30.150      0.000072\n",
       "54.145.52.184     0.000072\n",
       "54.172.14.223     0.000072\n",
       "68.201.219.223    0.001502\n",
       "70.121.214.34     0.000143\n",
       "72.181.105.81     0.017599\n",
       "72.181.113.170    0.043855\n",
       "95.31.16.121      0.000072\n",
       "95.31.18.119      0.000072\n",
       "97.105.15.120     0.000072\n",
       "97.105.19.58      0.858420\n",
       "dtype: float64"
      ]
     },
     "execution_count": 53,
     "metadata": {},
     "output_type": "execute_result"
    }
   ],
   "source": [
    "#probability of ip\n",
    "p_b = df.groupby('ip').size() / len(df)\n",
    "p_b"
   ]
  },
  {
   "cell_type": "code",
   "execution_count": 54,
   "id": "2c2760d2-74dd-4fa7-8044-21bc9840b18c",
   "metadata": {},
   "outputs": [
    {
     "data": {
      "text/plain": [
       "ip              user                  \n",
       "173.173.113.51  python-requests/2.21.0    1.000000\n",
       "24.26.242.9     python-requests/2.21.0    1.000000\n",
       "3.88.129.158    Slackbot 1                1.000000\n",
       "3.92.201.136    Slackbot 1                1.000000\n",
       "34.207.64.242   Slackbot 2                1.000000\n",
       "34.229.70.250   Slackbot 2                1.000000\n",
       "35.174.209.2    Slackbot 2                1.000000\n",
       "35.175.171.137  Slackbot 1                1.000000\n",
       "45.23.250.16    python-requests/2.21.0    1.000000\n",
       "52.87.230.102   Slackbot 1                0.500000\n",
       "                Slackbot 2                0.500000\n",
       "52.90.165.200   Slackbot 2                1.000000\n",
       "52.91.30.150    Slackbot 1                1.000000\n",
       "54.145.52.184   Slackbot 2                1.000000\n",
       "54.172.14.223   Slackbot 1                1.000000\n",
       "68.201.219.223  python-requests/2.21.0    1.000000\n",
       "70.121.214.34   Mozilla 4                 1.000000\n",
       "72.181.105.81   Mozilla 1                 0.032520\n",
       "                Mozilla 2                 0.032520\n",
       "                python-requests/2.21.0    0.934959\n",
       "72.181.113.170  Mozilla 3                 0.003263\n",
       "                python-requests/2.21.0    0.996737\n",
       "95.31.16.121    python-requests/2.21.0    1.000000\n",
       "95.31.18.119    python-requests/2.21.0    1.000000\n",
       "97.105.15.120   python-requests/2.21.0    1.000000\n",
       "97.105.19.58    Mozilla 1                 0.002167\n",
       "                Mozilla 3                 0.000167\n",
       "                Python-urllib/3.7         0.000083\n",
       "                python-requests/2.20.1    0.159263\n",
       "                python-requests/2.21.0    0.838320\n",
       "dtype: float64"
      ]
     },
     "execution_count": 54,
     "metadata": {},
     "output_type": "execute_result"
    }
   ],
   "source": [
    "p_a_and_b / p_b"
   ]
  },
  {
   "cell_type": "code",
   "execution_count": 55,
   "id": "76e6e5a6-9603-4c2b-8443-78358708c6fe",
   "metadata": {},
   "outputs": [
    {
     "data": {
      "text/html": [
       "<div>\n",
       "<style scoped>\n",
       "    .dataframe tbody tr th:only-of-type {\n",
       "        vertical-align: middle;\n",
       "    }\n",
       "\n",
       "    .dataframe tbody tr th {\n",
       "        vertical-align: top;\n",
       "    }\n",
       "\n",
       "    .dataframe thead th {\n",
       "        text-align: right;\n",
       "    }\n",
       "</style>\n",
       "<table border=\"1\" class=\"dataframe\">\n",
       "  <thead>\n",
       "    <tr style=\"text-align: right;\">\n",
       "      <th></th>\n",
       "      <th>ip</th>\n",
       "      <th>user</th>\n",
       "      <th>prob</th>\n",
       "    </tr>\n",
       "  </thead>\n",
       "  <tbody>\n",
       "    <tr>\n",
       "      <th>0</th>\n",
       "      <td>173.173.113.51</td>\n",
       "      <td>python-requests/2.21.0</td>\n",
       "      <td>1.000000</td>\n",
       "    </tr>\n",
       "    <tr>\n",
       "      <th>1</th>\n",
       "      <td>24.26.242.9</td>\n",
       "      <td>python-requests/2.21.0</td>\n",
       "      <td>1.000000</td>\n",
       "    </tr>\n",
       "    <tr>\n",
       "      <th>2</th>\n",
       "      <td>3.88.129.158</td>\n",
       "      <td>Slackbot 1</td>\n",
       "      <td>1.000000</td>\n",
       "    </tr>\n",
       "    <tr>\n",
       "      <th>3</th>\n",
       "      <td>3.92.201.136</td>\n",
       "      <td>Slackbot 1</td>\n",
       "      <td>1.000000</td>\n",
       "    </tr>\n",
       "    <tr>\n",
       "      <th>4</th>\n",
       "      <td>34.207.64.242</td>\n",
       "      <td>Slackbot 2</td>\n",
       "      <td>1.000000</td>\n",
       "    </tr>\n",
       "    <tr>\n",
       "      <th>5</th>\n",
       "      <td>34.229.70.250</td>\n",
       "      <td>Slackbot 2</td>\n",
       "      <td>1.000000</td>\n",
       "    </tr>\n",
       "    <tr>\n",
       "      <th>6</th>\n",
       "      <td>35.174.209.2</td>\n",
       "      <td>Slackbot 2</td>\n",
       "      <td>1.000000</td>\n",
       "    </tr>\n",
       "    <tr>\n",
       "      <th>7</th>\n",
       "      <td>35.175.171.137</td>\n",
       "      <td>Slackbot 1</td>\n",
       "      <td>1.000000</td>\n",
       "    </tr>\n",
       "    <tr>\n",
       "      <th>8</th>\n",
       "      <td>45.23.250.16</td>\n",
       "      <td>python-requests/2.21.0</td>\n",
       "      <td>1.000000</td>\n",
       "    </tr>\n",
       "    <tr>\n",
       "      <th>9</th>\n",
       "      <td>52.87.230.102</td>\n",
       "      <td>Slackbot 1</td>\n",
       "      <td>0.500000</td>\n",
       "    </tr>\n",
       "    <tr>\n",
       "      <th>10</th>\n",
       "      <td>52.87.230.102</td>\n",
       "      <td>Slackbot 2</td>\n",
       "      <td>0.500000</td>\n",
       "    </tr>\n",
       "    <tr>\n",
       "      <th>11</th>\n",
       "      <td>52.90.165.200</td>\n",
       "      <td>Slackbot 2</td>\n",
       "      <td>1.000000</td>\n",
       "    </tr>\n",
       "    <tr>\n",
       "      <th>12</th>\n",
       "      <td>52.91.30.150</td>\n",
       "      <td>Slackbot 1</td>\n",
       "      <td>1.000000</td>\n",
       "    </tr>\n",
       "    <tr>\n",
       "      <th>13</th>\n",
       "      <td>54.145.52.184</td>\n",
       "      <td>Slackbot 2</td>\n",
       "      <td>1.000000</td>\n",
       "    </tr>\n",
       "    <tr>\n",
       "      <th>14</th>\n",
       "      <td>54.172.14.223</td>\n",
       "      <td>Slackbot 1</td>\n",
       "      <td>1.000000</td>\n",
       "    </tr>\n",
       "    <tr>\n",
       "      <th>15</th>\n",
       "      <td>68.201.219.223</td>\n",
       "      <td>python-requests/2.21.0</td>\n",
       "      <td>1.000000</td>\n",
       "    </tr>\n",
       "    <tr>\n",
       "      <th>16</th>\n",
       "      <td>70.121.214.34</td>\n",
       "      <td>Mozilla 4</td>\n",
       "      <td>1.000000</td>\n",
       "    </tr>\n",
       "    <tr>\n",
       "      <th>17</th>\n",
       "      <td>72.181.105.81</td>\n",
       "      <td>python-requests/2.21.0</td>\n",
       "      <td>0.934959</td>\n",
       "    </tr>\n",
       "    <tr>\n",
       "      <th>18</th>\n",
       "      <td>72.181.105.81</td>\n",
       "      <td>Mozilla 1</td>\n",
       "      <td>0.032520</td>\n",
       "    </tr>\n",
       "    <tr>\n",
       "      <th>19</th>\n",
       "      <td>72.181.105.81</td>\n",
       "      <td>Mozilla 2</td>\n",
       "      <td>0.032520</td>\n",
       "    </tr>\n",
       "    <tr>\n",
       "      <th>20</th>\n",
       "      <td>72.181.113.170</td>\n",
       "      <td>python-requests/2.21.0</td>\n",
       "      <td>0.996737</td>\n",
       "    </tr>\n",
       "    <tr>\n",
       "      <th>21</th>\n",
       "      <td>72.181.113.170</td>\n",
       "      <td>Mozilla 3</td>\n",
       "      <td>0.003263</td>\n",
       "    </tr>\n",
       "    <tr>\n",
       "      <th>22</th>\n",
       "      <td>95.31.16.121</td>\n",
       "      <td>python-requests/2.21.0</td>\n",
       "      <td>1.000000</td>\n",
       "    </tr>\n",
       "    <tr>\n",
       "      <th>23</th>\n",
       "      <td>95.31.18.119</td>\n",
       "      <td>python-requests/2.21.0</td>\n",
       "      <td>1.000000</td>\n",
       "    </tr>\n",
       "    <tr>\n",
       "      <th>24</th>\n",
       "      <td>97.105.15.120</td>\n",
       "      <td>python-requests/2.21.0</td>\n",
       "      <td>1.000000</td>\n",
       "    </tr>\n",
       "    <tr>\n",
       "      <th>25</th>\n",
       "      <td>97.105.19.58</td>\n",
       "      <td>python-requests/2.21.0</td>\n",
       "      <td>0.838320</td>\n",
       "    </tr>\n",
       "    <tr>\n",
       "      <th>26</th>\n",
       "      <td>97.105.19.58</td>\n",
       "      <td>python-requests/2.20.1</td>\n",
       "      <td>0.159263</td>\n",
       "    </tr>\n",
       "    <tr>\n",
       "      <th>27</th>\n",
       "      <td>97.105.19.58</td>\n",
       "      <td>Mozilla 1</td>\n",
       "      <td>0.002167</td>\n",
       "    </tr>\n",
       "    <tr>\n",
       "      <th>28</th>\n",
       "      <td>97.105.19.58</td>\n",
       "      <td>Mozilla 3</td>\n",
       "      <td>0.000167</td>\n",
       "    </tr>\n",
       "    <tr>\n",
       "      <th>29</th>\n",
       "      <td>97.105.19.58</td>\n",
       "      <td>Python-urllib/3.7</td>\n",
       "      <td>0.000083</td>\n",
       "    </tr>\n",
       "  </tbody>\n",
       "</table>\n",
       "</div>"
      ],
      "text/plain": [
       "                ip                    user      prob\n",
       "0   173.173.113.51  python-requests/2.21.0  1.000000\n",
       "1      24.26.242.9  python-requests/2.21.0  1.000000\n",
       "2     3.88.129.158              Slackbot 1  1.000000\n",
       "3     3.92.201.136              Slackbot 1  1.000000\n",
       "4    34.207.64.242              Slackbot 2  1.000000\n",
       "5    34.229.70.250              Slackbot 2  1.000000\n",
       "6     35.174.209.2              Slackbot 2  1.000000\n",
       "7   35.175.171.137              Slackbot 1  1.000000\n",
       "8     45.23.250.16  python-requests/2.21.0  1.000000\n",
       "9    52.87.230.102              Slackbot 1  0.500000\n",
       "10   52.87.230.102              Slackbot 2  0.500000\n",
       "11   52.90.165.200              Slackbot 2  1.000000\n",
       "12    52.91.30.150              Slackbot 1  1.000000\n",
       "13   54.145.52.184              Slackbot 2  1.000000\n",
       "14   54.172.14.223              Slackbot 1  1.000000\n",
       "15  68.201.219.223  python-requests/2.21.0  1.000000\n",
       "16   70.121.214.34               Mozilla 4  1.000000\n",
       "17   72.181.105.81  python-requests/2.21.0  0.934959\n",
       "18   72.181.105.81               Mozilla 1  0.032520\n",
       "19   72.181.105.81               Mozilla 2  0.032520\n",
       "20  72.181.113.170  python-requests/2.21.0  0.996737\n",
       "21  72.181.113.170               Mozilla 3  0.003263\n",
       "22    95.31.16.121  python-requests/2.21.0  1.000000\n",
       "23    95.31.18.119  python-requests/2.21.0  1.000000\n",
       "24   97.105.15.120  python-requests/2.21.0  1.000000\n",
       "25    97.105.19.58  python-requests/2.21.0  0.838320\n",
       "26    97.105.19.58  python-requests/2.20.1  0.159263\n",
       "27    97.105.19.58               Mozilla 1  0.002167\n",
       "28    97.105.19.58               Mozilla 3  0.000167\n",
       "29    97.105.19.58       Python-urllib/3.7  0.000083"
      ]
     },
     "execution_count": 55,
     "metadata": {},
     "output_type": "execute_result"
    }
   ],
   "source": [
    "# Given a particular ip, what is probability of a certain status code\n",
    "user_given_ip = df.groupby('ip').user.value_counts(normalize=True).rename('prob').reset_index()\n",
    "user_given_ip"
   ]
  },
  {
   "cell_type": "code",
   "execution_count": 56,
   "id": "03c89d82-2a44-48ef-be71-db8c2f5e3f21",
   "metadata": {},
   "outputs": [
    {
     "data": {
      "text/html": [
       "<div>\n",
       "<style scoped>\n",
       "    .dataframe tbody tr th:only-of-type {\n",
       "        vertical-align: middle;\n",
       "    }\n",
       "\n",
       "    .dataframe tbody tr th {\n",
       "        vertical-align: top;\n",
       "    }\n",
       "\n",
       "    .dataframe thead th {\n",
       "        text-align: right;\n",
       "    }\n",
       "</style>\n",
       "<table border=\"1\" class=\"dataframe\">\n",
       "  <thead>\n",
       "    <tr style=\"text-align: right;\">\n",
       "      <th></th>\n",
       "      <th>ip</th>\n",
       "      <th>user</th>\n",
       "      <th>prob</th>\n",
       "    </tr>\n",
       "  </thead>\n",
       "  <tbody>\n",
       "    <tr>\n",
       "      <th>9</th>\n",
       "      <td>52.87.230.102</td>\n",
       "      <td>Slackbot 1</td>\n",
       "      <td>0.500000</td>\n",
       "    </tr>\n",
       "    <tr>\n",
       "      <th>10</th>\n",
       "      <td>52.87.230.102</td>\n",
       "      <td>Slackbot 2</td>\n",
       "      <td>0.500000</td>\n",
       "    </tr>\n",
       "    <tr>\n",
       "      <th>17</th>\n",
       "      <td>72.181.105.81</td>\n",
       "      <td>python-requests/2.21.0</td>\n",
       "      <td>0.934959</td>\n",
       "    </tr>\n",
       "    <tr>\n",
       "      <th>18</th>\n",
       "      <td>72.181.105.81</td>\n",
       "      <td>Mozilla 1</td>\n",
       "      <td>0.032520</td>\n",
       "    </tr>\n",
       "    <tr>\n",
       "      <th>19</th>\n",
       "      <td>72.181.105.81</td>\n",
       "      <td>Mozilla 2</td>\n",
       "      <td>0.032520</td>\n",
       "    </tr>\n",
       "    <tr>\n",
       "      <th>20</th>\n",
       "      <td>72.181.113.170</td>\n",
       "      <td>python-requests/2.21.0</td>\n",
       "      <td>0.996737</td>\n",
       "    </tr>\n",
       "    <tr>\n",
       "      <th>21</th>\n",
       "      <td>72.181.113.170</td>\n",
       "      <td>Mozilla 3</td>\n",
       "      <td>0.003263</td>\n",
       "    </tr>\n",
       "    <tr>\n",
       "      <th>25</th>\n",
       "      <td>97.105.19.58</td>\n",
       "      <td>python-requests/2.21.0</td>\n",
       "      <td>0.838320</td>\n",
       "    </tr>\n",
       "    <tr>\n",
       "      <th>26</th>\n",
       "      <td>97.105.19.58</td>\n",
       "      <td>python-requests/2.20.1</td>\n",
       "      <td>0.159263</td>\n",
       "    </tr>\n",
       "    <tr>\n",
       "      <th>27</th>\n",
       "      <td>97.105.19.58</td>\n",
       "      <td>Mozilla 1</td>\n",
       "      <td>0.002167</td>\n",
       "    </tr>\n",
       "    <tr>\n",
       "      <th>28</th>\n",
       "      <td>97.105.19.58</td>\n",
       "      <td>Mozilla 3</td>\n",
       "      <td>0.000167</td>\n",
       "    </tr>\n",
       "    <tr>\n",
       "      <th>29</th>\n",
       "      <td>97.105.19.58</td>\n",
       "      <td>Python-urllib/3.7</td>\n",
       "      <td>0.000083</td>\n",
       "    </tr>\n",
       "  </tbody>\n",
       "</table>\n",
       "</div>"
      ],
      "text/plain": [
       "                ip                    user      prob\n",
       "9    52.87.230.102              Slackbot 1  0.500000\n",
       "10   52.87.230.102              Slackbot 2  0.500000\n",
       "17   72.181.105.81  python-requests/2.21.0  0.934959\n",
       "18   72.181.105.81               Mozilla 1  0.032520\n",
       "19   72.181.105.81               Mozilla 2  0.032520\n",
       "20  72.181.113.170  python-requests/2.21.0  0.996737\n",
       "21  72.181.113.170               Mozilla 3  0.003263\n",
       "25    97.105.19.58  python-requests/2.21.0  0.838320\n",
       "26    97.105.19.58  python-requests/2.20.1  0.159263\n",
       "27    97.105.19.58               Mozilla 1  0.002167\n",
       "28    97.105.19.58               Mozilla 3  0.000167\n",
       "29    97.105.19.58       Python-urllib/3.7  0.000083"
      ]
     },
     "execution_count": 56,
     "metadata": {},
     "output_type": "execute_result"
    }
   ],
   "source": [
    "user_given_ip [user_given_ip.prob < 1]"
   ]
  },
  {
   "cell_type": "code",
   "execution_count": null,
   "id": "7f4f8493-810b-4159-8b60-6b76070e9ca7",
   "metadata": {},
   "outputs": [],
   "source": []
  }
 ],
 "metadata": {
  "kernelspec": {
   "display_name": "Python 3 (ipykernel)",
   "language": "python",
   "name": "python3"
  },
  "language_info": {
   "codemirror_mode": {
    "name": "ipython",
    "version": 3
   },
   "file_extension": ".py",
   "mimetype": "text/x-python",
   "name": "python",
   "nbconvert_exporter": "python",
   "pygments_lexer": "ipython3",
   "version": "3.9.13"
  }
 },
 "nbformat": 4,
 "nbformat_minor": 5
}
